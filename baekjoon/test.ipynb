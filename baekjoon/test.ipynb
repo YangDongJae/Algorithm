{
 "cells": [
  {
   "cell_type": "code",
   "execution_count": 12,
   "metadata": {},
   "outputs": [
    {
     "name": "stdout",
     "output_type": "stream",
     "text": [
      "3\n"
     ]
    }
   ],
   "source": [
    "\n",
    "def check_prev(list_data, index_i, index_j):\n",
    "  return_score = 0\n",
    "\n",
    "  while list_data[index_i][index_j - 1] == \"O\" and index_j != 0:\n",
    "    return_score += 1\n",
    "    index_j -= 1\n",
    "\n",
    "  return return_score\n",
    "    \n",
    "count = int(input())\n",
    "data = list()\n",
    "score = 0\n",
    "\n",
    "for i in range (count):\n",
    "  data.append(input())\n",
    "\n",
    "for i in range (len(data)):\n",
    "  for j in range(len(data[i])):\n",
    "    if data[i][j] == \"O\":\n",
    "      score = check_prev(data,i,j) + 1\n",
    "\n",
    "print(score)\n",
    "  "
   ]
  },
  {
   "cell_type": "code",
   "execution_count": null,
   "metadata": {},
   "outputs": [],
   "source": []
  }
 ],
 "metadata": {
  "interpreter": {
   "hash": "95d1e123bc4c178ead1f11f67e4bb87f6d005042260e927de93f10f45de44c0a"
  },
  "kernelspec": {
   "display_name": "Python 3.7.6 64-bit ('base': conda)",
   "language": "python",
   "name": "python3"
  },
  "language_info": {
   "codemirror_mode": {
    "name": "ipython",
    "version": 3
   },
   "file_extension": ".py",
   "mimetype": "text/x-python",
   "name": "python",
   "nbconvert_exporter": "python",
   "pygments_lexer": "ipython3",
   "version": "3.7.6"
  },
  "orig_nbformat": 4
 },
 "nbformat": 4,
 "nbformat_minor": 2
}
